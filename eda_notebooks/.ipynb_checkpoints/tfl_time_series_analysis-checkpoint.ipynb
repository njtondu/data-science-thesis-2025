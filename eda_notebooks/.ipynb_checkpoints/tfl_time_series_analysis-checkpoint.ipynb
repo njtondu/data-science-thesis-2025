{
 "cells": [
  {
   "cell_type": "raw",
   "metadata": {
    "vscode": {
     "languageId": "raw"
    }
   },
   "source": [
    "## TfL Journeys: Exploratory Data Analysis\n",
    "\n",
    "This notebook performs an initial EDA of daily Transport for London journeys for Tube and Bus across 2023–2025.\n",
    "\n",
    "Goals:\n",
    "- Load and clean daily data\n",
    "- Engineer helpful time features\n",
    "- Visualize trends, seasonality, and weekday patterns\n",
    "- Compare year-over-year behavior\n",
    "- Flag simple anomalies for follow-up\n"
   ]
  },
  {
   "cell_type": "code",
   "execution_count": null,
   "id": "08c613a2",
   "metadata": {},
   "outputs": [],
   "source": [
    "# Imports and settings\n",
    "import pandas as pd\n",
    "import numpy as np\n",
    "import matplotlib.pyplot as plt\n",
    "import seaborn as sns\n",
    "from pathlib import Path\n",
    "\n",
    "pd.set_option(\"display.max_columns\", 50)\n",
    "plt.style.use(\"seaborn-v0_8-whitegrid\")\n",
    "sns.set_context(\"talk\")\n",
    "\n",
    "DATA_DIR = Path(\"/Users/nicoletondu/Desktop/data-science-thesis-2025/data\")\n",
    "FILES = [\n",
    "    DATA_DIR / \"Journeys_2023.csv\",\n",
    "    DATA_DIR / \"Journeys_2024_2025 .csv\",  # mind the space in filename\n",
    "]\n",
    "\n"
   ]
  },
  {
   "cell_type": "code",
   "execution_count": null,
   "id": "53ec3525",
   "metadata": {},
   "outputs": [],
   "source": [
    "# Load data\n",
    "\n",
    "def read_and_standardize(path: Path) -> pd.DataFrame:\n",
    "    df = pd.read_csv(path)\n",
    "    # Ensure expected columns exist\n",
    "    expected = {\"TravelDate\", \"DayOfWeek\", \"TubeJourneyCount\", \"BusJourneyCount\"}\n",
    "    missing = expected.difference(df.columns)\n",
    "    if missing:\n",
    "        raise ValueError(f\"Missing columns in {path.name}: {missing}\")\n",
    "    # Parse date: format like 20230101\n",
    "    df[\"date\"] = pd.to_datetime(df[\"TravelDate\"].astype(str), format=\"%Y%m%d\", errors=\"coerce\")\n",
    "    df = df.dropna(subset=[\"date\"]).copy()\n",
    "    df[\"day_name\"] = df[\"DayOfWeek\"].astype(\"category\")\n",
    "    # Ensure numeric counts\n",
    "    for col in [\"TubeJourneyCount\", \"BusJourneyCount\"]:\n",
    "        df[col] = pd.to_numeric(df[col], errors=\"coerce\")\n",
    "    return df[[\"date\", \"day_name\", \"TubeJourneyCount\", \"BusJourneyCount\"]]\n",
    "\n",
    "frames = [read_and_standardize(p) for p in FILES]\n",
    "raw = pd.concat(frames, ignore_index=True).sort_values(\"date\")\n",
    "raw.head()\n"
   ]
  },
  {
   "cell_type": "code",
   "execution_count": null,
   "id": "aa713c6c",
   "metadata": {},
   "outputs": [],
   "source": [
    "# Basic quality checks\n",
    "n_rows = len(raw)\n",
    "n_missing = raw[[\"TubeJourneyCount\", \"BusJourneyCount\"]].isna().sum()\n",
    "summary = {\n",
    "    \"rows\": n_rows,\n",
    "    \"missing_tube\": int(n_missing[\"TubeJourneyCount\"]),\n",
    "    \"missing_bus\": int(n_missing[\"BusJourneyCount\"]),\n",
    "    \"date_min\": raw[\"date\"].min(),\n",
    "    \"date_max\": raw[\"date\"].max(),\n",
    "}\n",
    "summary\n"
   ]
  },
  {
   "cell_type": "code",
   "execution_count": null,
   "id": "295cdef6",
   "metadata": {},
   "outputs": [],
   "source": [
    "# Feature engineering\n",
    "eda = raw.copy()\n",
    "eda[\"year\"] = eda[\"date\"].dt.year\n",
    "eda[\"month\"] = eda[\"date\"].dt.month\n",
    "eda[\"week\"] = eda[\"date\"].dt.isocalendar().week.astype(int)\n",
    "eda[\"dow\"] = eda[\"date\"].dt.dayofweek  # Monday=0\n",
    "eda[\"is_weekend\"] = eda[\"dow\"].isin([5, 6])\n",
    "eda[\"total_journeys\"] = eda[\"TubeJourneyCount\"] + eda[\"BusJourneyCount\"]\n",
    "eda.head()\n"
   ]
  },
  {
   "cell_type": "code",
   "execution_count": null,
   "id": "dcdfa30d",
   "metadata": {},
   "outputs": [],
   "source": [
    "# Summary statistics\n",
    "summary_num = eda[[\"TubeJourneyCount\", \"BusJourneyCount\", \"total_journeys\"]].describe().T\n",
    "missing_ratio = eda[[\"TubeJourneyCount\", \"BusJourneyCount\"]].isna().mean().rename(\"missing_ratio\")\n",
    "pd.concat([summary_num, missing_ratio], axis=1)\n"
   ]
  },
  {
   "cell_type": "code",
   "execution_count": null,
   "id": "2c991beb",
   "metadata": {},
   "outputs": [],
   "source": [
    "# Daily trends with 7-day smoothing\n",
    "fig, axes = plt.subplots(2, 1, figsize=(14, 8), sharex=True)\n",
    "ts = eda.set_index(\"date\").sort_index()\n",
    "for ax, col, title in [\n",
    "    (axes[0], \"TubeJourneyCount\", \"Tube daily journeys\"),\n",
    "    (axes[1], \"BusJourneyCount\", \"Bus daily journeys\"),\n",
    "]:\n",
    "    ax.plot(ts.index, ts[col], color=\"#999999\", alpha=0.4, label=\"daily\")\n",
    "    ax.plot(ts.index, ts[col].rolling(7, min_periods=3).mean(), color=\"#1f77b4\", label=\"7d mean\")\n",
    "    ax.set_title(title)\n",
    "    ax.set_ylabel(\"Journeys\")\n",
    "    ax.legend(loc=\"upper left\")\n",
    "axes[1].set_xlabel(\"Date\")\n",
    "plt.tight_layout()\n"
   ]
  },
  {
   "cell_type": "code",
   "execution_count": null,
   "id": "90b08006",
   "metadata": {},
   "outputs": [],
   "source": [
    "# Weekday patterns\n",
    "order = [\"Monday\", \"Tuesday\", \"Wednesday\", \"Thursday\", \"Friday\", \"Saturday\", \"Sunday\"]\n",
    "fig, axes = plt.subplots(1, 2, figsize=(16, 5), sharey=False)\n",
    "sns.boxplot(data=eda, x=\"day_name\", y=\"TubeJourneyCount\", order=order, ax=axes[0])\n",
    "axes[0].set_title(\"Tube by weekday\")\n",
    "axes[0].set_xlabel(\"\")\n",
    "axes[0].set_ylabel(\"Journeys\")\n",
    "sns.boxplot(data=eda, x=\"day_name\", y=\"BusJourneyCount\", order=order, ax=axes[1])\n",
    "axes[1].set_title(\"Bus by weekday\")\n",
    "axes[1].set_xlabel(\"\")\n",
    "axes[1].set_ylabel(\"Journeys\")\n",
    "plt.tight_layout()\n"
   ]
  },
  {
   "cell_type": "code",
   "execution_count": null,
   "id": "530feb91",
   "metadata": {},
   "outputs": [],
   "source": [
    "# Monthly totals heatmap (total journeys)\n",
    "monthly = eda.groupby([\"year\", \"month\"], as_index=False)[[\"TubeJourneyCount\", \"BusJourneyCount\", \"total_journeys\"]].sum()\n",
    "pivot = monthly.pivot(index=\"year\", columns=\"month\", values=\"total_journeys\").sort_index()\n",
    "fig, ax = plt.subplots(figsize=(12, 4))\n",
    "sns.heatmap(pivot, cmap=\"YlGnBu\", annot=True, fmt=\".0f\", cbar_kws={\"label\": \"Total journeys\"})\n",
    "ax.set_title(\"Total journeys by year-month\")\n",
    "ax.set_xlabel(\"Month\")\n",
    "ax.set_ylabel(\"Year\")\n",
    "plt.tight_layout()\n"
   ]
  },
  {
   "cell_type": "code",
   "execution_count": null,
   "id": "38863d2d",
   "metadata": {},
   "outputs": [],
   "source": [
    "# Year-over-year comparison (monthly averages)\n",
    "monthly_avg = eda.groupby([\"year\", \"month\"], as_index=False)[[\"TubeJourneyCount\", \"BusJourneyCount\"]].mean()\n",
    "fig, axes = plt.subplots(1, 2, figsize=(16, 5), sharey=False)\n",
    "for ax, col, title in [\n",
    "    (axes[0], \"TubeJourneyCount\", \"Tube monthly average by year\"),\n",
    "    (axes[1], \"BusJourneyCount\", \"Bus monthly average by year\"),\n",
    "]:\n",
    "    for y, grp in monthly_avg.groupby(\"year\"):\n",
    "        ax.plot(grp[\"month\"], grp[col], marker=\"o\", label=str(y))\n",
    "    ax.set_title(title)\n",
    "    ax.set_xlabel(\"Month\")\n",
    "    ax.set_ylabel(\"Journeys\")\n",
    "    ax.legend(title=\"Year\")\n",
    "plt.tight_layout()\n"
   ]
  },
  {
   "cell_type": "code",
   "execution_count": null,
   "id": "9c8bc370",
   "metadata": {},
   "outputs": [],
   "source": [
    "# Simple anomaly detection on total journeys\n",
    "\n",
    "roll = ts[\"total_journeys\"].rolling(7, min_periods=7)\n",
    "center = roll.mean()\n",
    "scale = roll.std(ddof=0)\n",
    "zscore = (ts[\"total_journeys\"] - center) / scale\n",
    "anoms = zscore.abs() > 3\n",
    "\n",
    "fig, ax = plt.subplots(figsize=(14, 4))\n",
    "ax.plot(ts.index, ts[\"total_journeys\"], color=\"#999999\", alpha=0.5, label=\"daily total\")\n",
    "ax.plot(ts.index, center, color=\"#d62728\", label=\"7d mean\")\n",
    "ax.scatter(ts.index[anoms], ts.loc[anoms, \"total_journeys\"], color=\"red\", s=20, label=\">3σ anomaly\")\n",
    "ax.set_title(\"Total journeys with >3σ anomalies\")\n",
    "ax.legend(loc=\"upper left\")\n",
    "plt.tight_layout()\n",
    "\n",
    "# Top anomalous days\n",
    "anomaly_table = (\n",
    "    eda.loc[anoms.reset_index(drop=False).set_index(\"date\")[0].reindex(ts.index, fill_value=False).values,\n",
    "        [\"date\", \"day_name\", \"TubeJourneyCount\", \"BusJourneyCount\", \"total_journeys\"]]\n",
    "    .assign(zscore=zscore[anoms].values)\n",
    "    .sort_values(\"zscore\", key=np.abs, ascending=False)\n",
    "    .head(15)\n",
    ")\n",
    "anomaly_table\n"
   ]
  },
  {
   "cell_type": "code",
   "execution_count": null,
   "id": "42ba6b87",
   "metadata": {},
   "outputs": [],
   "source": [
    "# Save combined cleaned dataset\n",
    "out_path = DATA_DIR / \"combined_journeys.csv\"\n",
    "eda.to_csv(out_path, index=False)\n",
    "out_path\n"
   ]
  }
 ],
 "metadata": {
  "language_info": {
   "name": "python"
  }
 },
 "nbformat": 4,
 "nbformat_minor": 5
}
